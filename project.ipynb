{
 "cells": [
  {
   "cell_type": "code",
   "execution_count": 1,
   "id": "84d4cfa1",
   "metadata": {},
   "outputs": [
    {
     "name": "stdout",
     "output_type": "stream",
     "text": [
      "Hello Class\n"
     ]
    }
   ],
   "source": [
    "message=\"Hello Class\"\n",
    "print(message)"
   ]
  },
  {
   "cell_type": "code",
   "execution_count": 2,
   "id": "35d76816",
   "metadata": {},
   "outputs": [
    {
     "name": "stdout",
     "output_type": "stream",
     "text": [
      "Today we are going to play a game!\n"
     ]
    }
   ],
   "source": [
    "message= \"Today we are going to play a game!\"\n",
    "print(message)"
   ]
  },
  {
   "cell_type": "code",
   "execution_count": 3,
   "id": "7747e5a4",
   "metadata": {},
   "outputs": [
    {
     "name": "stdout",
     "output_type": "stream",
     "text": [
      "I am going to ask you some numerical questions!\n",
      "Lets begin!\n"
     ]
    }
   ],
   "source": [
    "message = \"I am going to ask you some numerical questions!\\nLets begin!\"\n",
    "print(message)"
   ]
  },
  {
   "cell_type": "code",
   "execution_count": null,
   "id": "e6457ef3",
   "metadata": {},
   "outputs": [],
   "source": [
    "numbers=list(range(0,101))\n",
    "print(numbers)"
   ]
  },
  {
   "cell_type": "code",
   "execution_count": 25,
   "id": "4d89f763",
   "metadata": {},
   "outputs": [
    {
     "name": "stdout",
     "output_type": "stream",
     "text": [
      "please enter your favorite number7\n",
      "7\n"
     ]
    }
   ],
   "source": [
    "message=input(\"please enter your favorite number\")\n",
    "print(message)"
   ]
  },
  {
   "cell_type": "code",
   "execution_count": 12,
   "id": "b45a0fd3",
   "metadata": {},
   "outputs": [
    {
     "data": {
      "text/plain": [
       "3.5"
      ]
     },
     "execution_count": 12,
     "metadata": {},
     "output_type": "execute_result"
    }
   ],
   "source": [
    "7/2"
   ]
  },
  {
   "cell_type": "code",
   "execution_count": 7,
   "id": "5f486109",
   "metadata": {},
   "outputs": [
    {
     "name": "stdout",
     "output_type": "stream",
     "text": [
      "7 is Odd\n",
      "Your chosen number is not easily divided by 2 as it has a remainder!\n"
     ]
    }
   ],
   "source": [
    "num=7\n",
    "\n",
    "if (num % 2) == 0:\n",
    "   print(\"{0} is Even\".format(num))\n",
    "else:\n",
    "   print(\"{0} is Odd\".format(num))\n",
    "if (num % 2) != 0:\n",
    "    print(\"Your chosen number is not easily divided by 2 as it has a remainder!\")\n",
    "if (num % 2) == 0:\n",
    "    print(\"Good job! Who is next?\")"
   ]
  },
  {
   "cell_type": "code",
   "execution_count": 8,
   "id": "3a28121d",
   "metadata": {},
   "outputs": [
    {
     "name": "stdout",
     "output_type": "stream",
     "text": [
      "7 is not a multiple of 4! \n",
      "But 28 is and when you times it by 7 thats what you get!\n"
     ]
    }
   ],
   "source": [
    "num = 7\n",
    "if (num * 4)==28:\n",
    "    print(\"{0} is not a multiple of 4! \\nBut 28 is and when you times it by 7 thats what you get!\".format(num))\n"
   ]
  },
  {
   "cell_type": "code",
   "execution_count": null,
   "id": "abea7512",
   "metadata": {},
   "outputs": [],
   "source": [
    "message=\"okay lets move on!\"\n",
    "print(message)"
   ]
  },
  {
   "cell_type": "code",
   "execution_count": 22,
   "id": "38467ac2",
   "metadata": {},
   "outputs": [
    {
     "name": "stdout",
     "output_type": "stream",
     "text": [
      "You have 2 tries. Guess what number I am thinking!26 and 75\n",
      "26 and 75\n"
     ]
    }
   ],
   "source": [
    "message=input(\"You have 2 tries. Guess what number I am thinking!\")\n",
    "print(message)"
   ]
  },
  {
   "cell_type": "code",
   "execution_count": 23,
   "id": "d5b04a3f",
   "metadata": {},
   "outputs": [
    {
     "name": "stdout",
     "output_type": "stream",
     "text": [
      "tell me the second number again?\n"
     ]
    }
   ],
   "source": [
    "number = 26\n",
    "if number > 75:\n",
    "    print(\"wrong number, try again!\")\n",
    "if number == 75:\n",
    "    print(\"You got one out of two numbers!\")\n",
    "else:\n",
    "    print(\"tell me the second number again?\")"
   ]
  },
  {
   "cell_type": "code",
   "execution_count": 24,
   "id": "305b5072",
   "metadata": {},
   "outputs": [
    {
     "name": "stdout",
     "output_type": "stream",
     "text": [
      "You got it!\n"
     ]
    }
   ],
   "source": [
    "number = 75\n",
    "if number > 75:\n",
    "    print(\"wrong number, try again!\")\n",
    "if number == 75:\n",
    "    print(\"You got it!\")\n",
    "else:\n",
    "    print(\"tell me the second number again?\")"
   ]
  },
  {
   "cell_type": "code",
   "execution_count": 21,
   "id": "cfbfdc0f",
   "metadata": {},
   "outputs": [
    {
     "name": "stdout",
     "output_type": "stream",
     "text": [
      "You are such a mind reader!\n",
      "That is all for today!\n",
      "Class dismissed\n"
     ]
    }
   ],
   "source": [
    "message=\"You are such a mind reader!\\nThat is all for today!\\nClass dismissed\"\n",
    "print(message)"
   ]
  }
 ],
 "metadata": {
  "kernelspec": {
   "display_name": "Python 3",
   "language": "python",
   "name": "python3"
  },
  "language_info": {
   "codemirror_mode": {
    "name": "ipython",
    "version": 3
   },
   "file_extension": ".py",
   "mimetype": "text/x-python",
   "name": "python",
   "nbconvert_exporter": "python",
   "pygments_lexer": "ipython3",
   "version": "3.8.8"
  }
 },
 "nbformat": 4,
 "nbformat_minor": 5
}
